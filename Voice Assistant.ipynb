{
 "cells": [
  {
   "cell_type": "code",
   "execution_count": 1,
   "id": "40b56f8b",
   "metadata": {
    "scrolled": true
   },
   "outputs": [],
   "source": [
    "#Voice Assistant\n"
   ]
  },
  {
   "cell_type": "code",
   "execution_count": 67,
   "id": "a828d387",
   "metadata": {},
   "outputs": [],
   "source": [
    "# pip install pyttsx3\n",
    "# ! pip install SpeechRecognition\n",
    "# !pip install pyaudio\n",
    "# !pip install pyjokes"
   ]
  },
  {
   "cell_type": "code",
   "execution_count": 68,
   "id": "426db823",
   "metadata": {},
   "outputs": [],
   "source": [
    "# import pyttsx3\n",
    "# import datetime\n",
    "# import speech_recognition as sr\n",
    "# import psutil\n",
    "# import webbrowser as wb\n",
    "# import pyjokes"
   ]
  },
  {
   "cell_type": "code",
   "execution_count": 69,
   "id": "0d623662",
   "metadata": {},
   "outputs": [],
   "source": [
    "# import sys\n",
    "# sys.executable\n",
    "# !pip install SpeechRecognition\n",
    "# !{sys.executable} -m pip install SpeechRecognition\n",
    "# !{sys.executable} -m pip install pyaudio\n",
    "# !{sys.executable} -m pip install pyjokes"
   ]
  },
  {
   "cell_type": "code",
   "execution_count": 13,
   "id": "814a60dd",
   "metadata": {},
   "outputs": [],
   "source": [
    "engine=pyttsx3.init()"
   ]
  },
  {
   "cell_type": "code",
   "execution_count": 14,
   "id": "647259b3",
   "metadata": {},
   "outputs": [],
   "source": [
    "engine.say('Hello World')\n",
    "engine.runAndWait()"
   ]
  },
  {
   "cell_type": "code",
   "execution_count": 70,
   "id": "c9e7ebf6",
   "metadata": {},
   "outputs": [],
   "source": [
    "engine=pyttsx3.init()\n",
    "\n",
    "def speak(audio):\n",
    "    engine.say(audio)\n",
    "    engine.runAndWait()\n",
    "\n",
    "def time_():\n",
    "    Time = datetime.datetime.now().strftime(\"%H:%H:%S\")\n",
    "    speak(\"The current time is\")\n",
    "    speak(Time)\n",
    "    \n",
    "def date_():\n",
    "    year = datetime.datetime.now().year\n",
    "    month = datetime.datetime.now().month\n",
    "    day = datetime.datetime.now().day\n",
    "    speak(\"The current date is\")\n",
    "    speak(day)\n",
    "    speak(month)\n",
    "    speak(year)\n",
    "    \n",
    "def wishMe():\n",
    "    speak(\"Next step at your service, Welcome Ma'am!\")\n",
    "    time_()\n",
    "    date_()\n",
    "    \n",
    "    hour = datetime.datetime.now().hour\n",
    "    \n",
    "    if hour >=6 and hour <=12:\n",
    "        speak(\"Good Morning!\")\n",
    "    elif hour >12 and hour <=18:\n",
    "        speak(\"Good Evening!\")\n",
    "    elif hour >18 and hour <=24:\n",
    "        speak(\"Good Evening!\")\n",
    "    else:\n",
    "        speak(\"Good Night!\")\n",
    "        \n",
    "    speak(\"How can I help you?\")\n",
    " \n",
    "def TakeCommand():\n",
    "    r = sr.Recognizer()\n",
    "    with sr.Microphone() as source:\n",
    "        print(\"Listening...\")\n",
    "        r.pause_threshold=1\n",
    "        audio = r.listen(source)\n",
    "    try : \n",
    "        print(\"Recognizing...\")\n",
    "        query=r.recognize_google(audio, language='en-US')\n",
    "        print(query)\n",
    "    except exception as e:\n",
    "        print(e)\n",
    "        print('Say it again please')\n",
    "        return \"None\"\n",
    "    return query\n",
    "\n",
    "def cpu():\n",
    "    usage = str(psutil.cpu_percent())\n",
    "    speak('CPU is at'+ usage)\n",
    "    \n",
    "    battery = psutil.sensors_battery()\n",
    "    speak('battery is at')\n",
    "    speak(battery.percent)\n",
    "    \n",
    "def search_youtube():\n",
    "    search_term = TakeCommand().lower()\n",
    "    speak('Here we go to youtube')\n",
    "    wb.open('https://www.youtube.com/results?search_query=' + search_term)\n",
    "    \n",
    "def search_google():\n",
    "    search_term = TakeCommand().lower()\n",
    "    speak('Redirecting to the Google search!')\n",
    "    wb.open('https://www.google.com/search?q=' + search_term)\n",
    "    \n",
    "def jokes_():\n",
    "    speak(pyjokes.get_joke())"
   ]
  },
  {
   "cell_type": "code",
   "execution_count": 21,
   "id": "a316894b",
   "metadata": {},
   "outputs": [],
   "source": [
    "speak(\"Hello everyone! welcome to isha's voice assistant\")"
   ]
  },
  {
   "cell_type": "code",
   "execution_count": 22,
   "id": "eb18fa0a",
   "metadata": {},
   "outputs": [],
   "source": [
    "time_()"
   ]
  },
  {
   "cell_type": "code",
   "execution_count": 23,
   "id": "5bc8a566",
   "metadata": {},
   "outputs": [],
   "source": [
    "date_()"
   ]
  },
  {
   "cell_type": "code",
   "execution_count": 24,
   "id": "cfd5b3a8",
   "metadata": {},
   "outputs": [],
   "source": [
    "wishMe()"
   ]
  },
  {
   "cell_type": "code",
   "execution_count": 42,
   "id": "1c98064b",
   "metadata": {},
   "outputs": [
    {
     "name": "stdout",
     "output_type": "stream",
     "text": [
      "Listening...\n",
      "Recognizing...\n",
      "hi how are you\n"
     ]
    },
    {
     "data": {
      "text/plain": [
       "'hi how are you'"
      ]
     },
     "execution_count": 42,
     "metadata": {},
     "output_type": "execute_result"
    }
   ],
   "source": [
    "TakeCommand()"
   ]
  },
  {
   "cell_type": "code",
   "execution_count": 72,
   "id": "dd7bf34e",
   "metadata": {},
   "outputs": [
    {
     "name": "stdout",
     "output_type": "stream",
     "text": [
      "Listening...\n",
      "Recognizing...\n",
      "tell me a joke\n",
      "Listening...\n",
      "Recognizing...\n",
      "go offline\n"
     ]
    }
   ],
   "source": [
    "if __name__ == \"__main__\":\n",
    "    \n",
    "    wishMe()\n",
    "    \n",
    "    while True:\n",
    "        query=TakeCommand().lower()\n",
    "    \n",
    "        if 'time' in query :\n",
    "            time_()\n",
    "        elif 'date'in query :\n",
    "            date_()\n",
    "        elif 'cpu' in query:\n",
    "            cpu()\n",
    "        elif 'go offline' in query:\n",
    "            speak('Next step service is going offline')\n",
    "            break\n",
    "        elif 'search youtube' in query:\n",
    "            speak('what should I search for?')\n",
    "            search_youtube()\n",
    "        elif 'search google' in query:\n",
    "            speak('what should I search for?')\n",
    "            search_google()\n",
    "        elif 'joke' in query:\n",
    "            jokes_()"
   ]
  },
  {
   "cell_type": "code",
   "execution_count": null,
   "id": "9439c20f",
   "metadata": {},
   "outputs": [],
   "source": []
  }
 ],
 "metadata": {
  "kernelspec": {
   "display_name": "Python 3 (ipykernel)",
   "language": "python",
   "name": "python3"
  },
  "language_info": {
   "codemirror_mode": {
    "name": "ipython",
    "version": 3
   },
   "file_extension": ".py",
   "mimetype": "text/x-python",
   "name": "python",
   "nbconvert_exporter": "python",
   "pygments_lexer": "ipython3",
   "version": "3.10.2"
  }
 },
 "nbformat": 4,
 "nbformat_minor": 5
}
