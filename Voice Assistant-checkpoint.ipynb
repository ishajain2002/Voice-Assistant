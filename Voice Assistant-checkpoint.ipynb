{
 "cells": [
  {
   "cell_type": "code",
   "execution_count": 39,
   "id": "40b56f8b",
   "metadata": {
    "scrolled": true
   },
   "outputs": [],
   "source": [
    "#Voice Assistant\n"
   ]
  },
  {
   "cell_type": "code",
   "execution_count": null,
   "id": "a828d387",
   "metadata": {},
   "outputs": [],
   "source": [
    "# pip install pyttsx3\n",
    "! pip uninstall SpeechRecognition\n",
    "! pip install SpeechRecognition\n",
    "\n",
    "# ! pip install SpeechRecognition  "
   ]
  },
  {
   "cell_type": "code",
   "execution_count": null,
   "id": "426db823",
   "metadata": {},
   "outputs": [],
   "source": [
    "import pyttsx3\n",
    "import datetime\n",
    "import speech_recognition as sr"
   ]
  },
  {
   "cell_type": "code",
   "execution_count": 4,
   "id": "814a60dd",
   "metadata": {},
   "outputs": [],
   "source": [
    "engine=pyttsx3.init()\n"
   ]
  },
  {
   "cell_type": "code",
   "execution_count": 7,
   "id": "647259b3",
   "metadata": {},
   "outputs": [],
   "source": [
    "engine.say('Hello World')\n",
    "engine.runAndWait()"
   ]
  },
  {
   "cell_type": "code",
   "execution_count": 35,
   "id": "c9e7ebf6",
   "metadata": {},
   "outputs": [],
   "source": [
    "engine=pyttsx3.init()\n",
    "\n",
    "def speak(audio):\n",
    "    engine.say(audio)\n",
    "    engine.runAndWait()\n",
    "\n",
    "def time_():\n",
    "    Time = datetime.datetime.now().strftime(\"%H:%H:%S\")\n",
    "    speak(\"The current time is\")\n",
    "    speak(Time)\n",
    "    \n",
    "def date_():\n",
    "    year = datetime.datetime.now().year\n",
    "    month = datetime.datetime.now().month\n",
    "    day = datetime.datetime.now().day\n",
    "    speak(\"The current date is\")\n",
    "    speak(day)\n",
    "    speak(month)\n",
    "    speak(year)\n",
    "    \n",
    "def wishMe():\n",
    "    speak(\"Next step at your service, Welcome Ma'am!\")\n",
    "    time_()\n",
    "    date_()\n",
    "    \n",
    "    hour = datetime.datetime.now().hour\n",
    "    \n",
    "    if hour >=6 and hour <=12:\n",
    "        speak(\"Good Morning!\")\n",
    "    elif hour >12 and hour <=18:\n",
    "        speak(\"Good Evening!\")\n",
    "    elif hour >18 and hour <=24:\n",
    "        speak(\"Good Evening!\")\n",
    "    else:\n",
    "        speak(\"Good Night!\")\n",
    "        \n",
    "    speak(\"How can I help you?\")\n",
    "    \n",
    "def "
   ]
  },
  {
   "cell_type": "code",
   "execution_count": 9,
   "id": "a316894b",
   "metadata": {},
   "outputs": [],
   "source": [
    "speak(\"Hello everyone! welcome to isha's voice assistant\")"
   ]
  },
  {
   "cell_type": "code",
   "execution_count": 24,
   "id": "eb18fa0a",
   "metadata": {},
   "outputs": [],
   "source": [
    "time_()"
   ]
  },
  {
   "cell_type": "code",
   "execution_count": 31,
   "id": "5bc8a566",
   "metadata": {},
   "outputs": [],
   "source": [
    "date_()"
   ]
  },
  {
   "cell_type": "code",
   "execution_count": null,
   "id": "cfd5b3a8",
   "metadata": {},
   "outputs": [],
   "source": [
    "wishMe()"
   ]
  }
 ],
 "metadata": {
  "kernelspec": {
   "display_name": "Python 3 (ipykernel)",
   "language": "python",
   "name": "python3"
  },
  "language_info": {
   "codemirror_mode": {
    "name": "ipython",
    "version": 3
   },
   "file_extension": ".py",
   "mimetype": "text/x-python",
   "name": "python",
   "nbconvert_exporter": "python",
   "pygments_lexer": "ipython3",
   "version": "3.10.2"
  }
 },
 "nbformat": 4,
 "nbformat_minor": 5
}
